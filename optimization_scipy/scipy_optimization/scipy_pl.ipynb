{
 "cells": [
  {
   "cell_type": "markdown",
   "id": "30964615",
   "metadata": {},
   "source": [
    "We want to find the maximum solution to:\n",
    "\n",
    "$\\underset{x_1,x_2}{\\operatorname{\\max}} 4x_1+3x_2$\n",
    "\n",
    "In this example, the objective function is subject to the following constraints:\n",
    "\n",
    "$$\n",
    "\\begin{align}\n",
    "x_1 \\ge 0 \\\\\n",
    "x_2 \\ge 2 \\\\\n",
    "2x_2 \\le 25-x_1 \\\\\n",
    "4x_2 \\ge 2x_1 - 8 \\\\\n",
    "x_2 \\le 2x_1 - 5 \\\\\n",
    "\\end{align}\n",
    "$$"
   ]
  },
  {
   "cell_type": "code",
   "execution_count": 1,
   "id": "b66b997a",
   "metadata": {
    "scrolled": true
   },
   "outputs": [],
   "source": [
    "import numpy as np\n",
    "import matplotlib.pyplot as plt\n",
    "from scipy.optimize import linprog\n",
    "%matplotlib inline"
   ]
  },
  {
   "cell_type": "code",
   "execution_count": 2,
   "id": "bad87786",
   "metadata": {},
   "outputs": [
    {
     "data": {
      "text/plain": [
       "<matplotlib.legend.Legend at 0x7fc1cd59c970>"
      ]
     },
     "execution_count": 2,
     "metadata": {},
     "output_type": "execute_result"
    },
    {
     "data": {
      "image/png": "[encoded data removed]",
      "text/plain": [
       "<Figure size 432x288 with 1 Axes>"
      ]
     },
     "metadata": {
      "needs_background": "light"
     },
     "output_type": "display_data"
    }
   ],
   "source": [
    "# Construct lines\n",
    "# x > 0\n",
    "x = np.linspace(0, 20, 2000)\n",
    "\n",
    "# y >= 2\n",
    "y1 = (x*0) + 2\n",
    "# 2y <= 25 - x\n",
    "y2 = (25-x)/2.0\n",
    "# 4y >= 2x - 8 \n",
    "y3 = (2*x-8)/4.0\n",
    "# y <= 2x - 5 \n",
    "y4 = 2 * x -5\n",
    "\n",
    "# Make plot\n",
    "plt.plot(x, y1, label=r'$y\\geq2$')\n",
    "plt.plot(x, y2, label=r'$2y\\leq25-x$')\n",
    "plt.plot(x, y3, label=r'$4y\\geq 2x - 8$')\n",
    "plt.plot(x, y4, label=r'$y\\leq 2x-5$')\n",
    "plt.xlim((0, 16))\n",
    "plt.ylim((0, 11))\n",
    "plt.xlabel(r'$x$')\n",
    "plt.ylabel(r'$y$')\n",
    "\n",
    "# Fill feasible region\n",
    "y5 = np.minimum(y2, y4)\n",
    "y6 = np.maximum(y1, y3)\n",
    "plt.fill_between(x, y5, y6, where=y5>y6, color='grey', alpha=0.5)\n",
    "plt.legend(bbox_to_anchor=(1.05, 1), loc=2, borderaxespad=0.)"
   ]
  },
  {
   "cell_type": "markdown",
   "id": "9d668bc8",
   "metadata": {},
   "source": [
    "We need some mathematical manipulations to convert the target problem to the form accepted by linprog\n",
    "\n",
    "$\\underset{x_1,x_2}{\\operatorname{\\min}} -4x_1-3x_2$\n",
    "\n",
    "vector of decision:\n",
    "$$\n",
    "c=[-4,-3]\n",
    "$$\n",
    "\n",
    "Inequality constraints:\n",
    "$$\n",
    "\\begin{align}\n",
    "x_1 + 2x_2 \\le 25 \\\\\n",
    "2x_1 - 4x_2 \\le 8 \\\\\n",
    "-2x_1 + x_2 \\le -5 \\\\\n",
    "\\end{align}\n",
    "$$\n",
    "\n",
    "where\n",
    "$$\n",
    "\\mathbf{A_{ub}} = \\left[\\begin{array}\n",
    "{rrr}\n",
    "1 & 2  \\\\\n",
    "2 & -4 \\\\\n",
    "-2 & 1\n",
    "\\end{array}\\right]\n",
    "$$\n",
    "\n",
    "$$\n",
    "\\mathbf{b_{ub}} = \\left[\\begin{array}\n",
    "{rrr}\n",
    "25  \\\\\n",
    "8 \\\\\n",
    "-5\n",
    "\\end{array}\\right]\n",
    "$$"
   ]
  },
  {
   "cell_type": "code",
   "execution_count": 3,
   "id": "940edc68",
   "metadata": {},
   "outputs": [],
   "source": [
    "c = np.array([-4.0, -3.0])\n",
    "\n",
    "A_ub = np.array([[1.0, 2.0],\n",
    "                 [2.0, -4.0],\n",
    "                 [-2.0, 1.0]])\n",
    "\n",
    "b_ub = np.array([25.0, 8.0, -5.0])\n",
    "\n",
    "x1_bouns = (0, None)\n",
    "x2_bouns = (2, None)\n",
    "\n",
    "bounds = [x1_bouns, x2_bouns]\n",
    "\n",
    "result = linprog(c, A_ub=A_ub, b_ub=b_ub, bounds=bounds)"
   ]
  },
  {
   "cell_type": "code",
   "execution_count": 4,
   "id": "c424536e",
   "metadata": {},
   "outputs": [
    {
     "name": "stdout",
     "output_type": "stream",
     "text": [
      "     con: array([], dtype=float64)\n",
      "     fun: -73.74999999974425\n",
      " message: 'Optimization terminated successfully.'\n",
      "     nit: 5\n",
      "   slack: array([7.55449037e-11, 7.67919062e-11, 1.87500000e+01])\n",
      "  status: 0\n",
      " success: True\n",
      "       x: array([14.5 ,  5.25])\n"
     ]
    }
   ],
   "source": [
    "print(result)"
   ]
  }
 ],
 "metadata": {
  "kernelspec": {
   "display_name": "Python 3 (ipykernel)",
   "language": "python",
   "name": "python3"
  },
  "language_info": {
   "codemirror_mode": {
    "name": "ipython",
    "version": 3
   },
   "file_extension": ".py",
   "mimetype": "text/x-python",
   "name": "python",
   "nbconvert_exporter": "python",
   "pygments_lexer": "ipython3",
   "version": "3.8.5"
  }
 },
 "nbformat": 4,
 "nbformat_minor": 5
}
